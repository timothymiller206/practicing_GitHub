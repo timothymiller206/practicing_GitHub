{
 "cells": [
  {
   "cell_type": "code",
   "execution_count": 1,
   "id": "coastal-desert",
   "metadata": {},
   "outputs": [
    {
     "data": {
      "text/plain": [
       "108"
      ]
     },
     "execution_count": 1,
     "metadata": {},
     "output_type": "execute_result"
    }
   ],
   "source": [
    "#here is a markdown file.\n",
    "#first let's make some code and save it into some variables\n",
    "\n",
    "x = 36\n",
    "y = 3\n",
    "x*y"
   ]
  },
  {
   "cell_type": "code",
   "execution_count": null,
   "id": "respective-entry",
   "metadata": {},
   "outputs": [],
   "source": [
    "#now in this code chunk divide them and save and push it back into github"
   ]
  },
  {
   "cell_type": "code",
   "execution_count": 2,
   "id": "fundamental-freight",
   "metadata": {},
   "outputs": [
    {
     "data": {
      "text/plain": [
       "39"
      ]
     },
     "execution_count": 2,
     "metadata": {},
     "output_type": "execute_result"
    }
   ],
   "source": [
    "#now in this code chunk take x^y and save and push it "
   ]
  }
 ],
 "metadata": {
  "kernelspec": {
   "display_name": "Python 3",
   "language": "python",
   "name": "python3"
  },
  "language_info": {
   "codemirror_mode": {
    "name": "ipython",
    "version": 3
   },
   "file_extension": ".py",
   "mimetype": "text/x-python",
   "name": "python",
   "nbconvert_exporter": "python",
   "pygments_lexer": "ipython3",
   "version": "3.8.6"
  }
 },
 "nbformat": 4,
 "nbformat_minor": 5
}
